{
  "cells": [
    {
      "cell_type": "code",
      "execution_count": 19,
      "metadata": {
        "id": "Ur7qqzGrudXo"
      },
      "outputs": [],
      "source": [
        "import matplotlib.pyplot as plt\n",
        "import numpy as np\n",
        "from scipy.optimize import fsolve\n"
      ]
    },
    {
      "cell_type": "markdown",
      "metadata": {
        "id": "eQBrsx4TugYc"
      },
      "source": [
        "Constantes e eixos"
      ]
    },
    {
      "cell_type": "code",
      "execution_count": 20,
      "metadata": {
        "id": "rb0b0vnyuhOB"
      },
      "outputs": [],
      "source": [
        "# frequência de plasmon referência\n",
        "W_P = 2*np.pi*10000000000.\n",
        "\n",
        "# constante filtro referência\n",
        "F = 0.56\n",
        "\n",
        "# frequência magnética referência\n",
        "W_0 = 2*np.pi*4000000000.\n",
        "\n",
        "# vel da luz\n",
        "C = 300000000\n",
        "\n",
        "# k do plasmon\n",
        "K_P = W_P/C\n",
        "\n",
        "# constante de absorção\n",
        "mult = 0.\n",
        "G_E = mult*W_P/np.sqrt(2.)\n",
        "G_M = mult*W_P/np.sqrt(2.)\n",
        "\n",
        "#numero de pontos\n",
        "NP = int(4000000)\n",
        "\n",
        "# frequencia onde acontece o spp na polarização TE (ja dividido por W_P)\n",
        "d = (2.-F)\n",
        "e = (2.*G_M**2 + (F-4.)*W_0**2)\n",
        "f = 2.*W_0**4\n",
        "delta = e**2 - 4*d*f\n",
        "\n",
        "# aqui nao foi divido por W_P ainda devido ao calculo\n",
        "wspp_te_escalar = (np.sqrt((-e+np.sqrt(delta))/(2.*d)))\n",
        "# aqui foi divido por W_P\n",
        "wspp_te = np.zeros(NP) + wspp_te_escalar/W_P\n",
        "\n",
        "# frequencia onde acontece o spp na polarização TM, q por sinal, é a mesma do metal\n",
        "# aqui nao foi divido por W_P ainda devido ao calculo\n",
        "wspp_tm_escalar = np.sqrt(1/2. - (G_E**2)/(W_P**2))*W_P\n",
        "# aqui foi divido por W_P\n",
        "wspp_tm = np.zeros(NP) + wspp_tm_escalar/W_P\n",
        "\n",
        "# frequencia minima para que haja spp TE q por sinal tbem é a frequência em que\n",
        "# acontece o spp TM pela divergência de u_2\n",
        "d = 1.\n",
        "e = (G_M**2 -2*W_0**2)\n",
        "f = W_0**4\n",
        "delta = e**2 - 4*d*f\n",
        "\n",
        "wmin_te= np.zeros(NP) + W_0/W_P\n",
        "\n",
        "# frequencia maxima para que haja spp TE\n",
        "a = 1-F\n",
        "b = (F-2.)*W_0**2-G_M**2\n",
        "c = W_0**4\n",
        "delta = b**2-4*a*c\n",
        "wmax_te = np.zeros(NP) + (np.sqrt((-b+np.sqrt(delta))/(2.*a)))/W_P\n",
        "\n",
        "# k_ref para plotar as linhas horizontais\n",
        "k_ref = np.linspace(0,2,NP)\n",
        "\n",
        "# variando a frequência\n",
        "w = np.linspace(0,int(W_P*0.9),NP)\n",
        "\n",
        "\n",
        "# frequencia normalizada para o gráfico\n",
        "wwp = w/W_P\n",
        "\n",
        "# frequencia em que e_2*u_2 = 1\n",
        "a = -F\n",
        "b = (F-1)*W_P**2\n",
        "c = (W_P**2)*(W_0**2)\n",
        "w_linha = np.sqrt((-b-np.sqrt((b**2)-4*a*c))/(2*a))\n",
        "w_linha_escalar = w_linha\n",
        "w_linha = np.zeros(NP)+w_linha/W_P\n",
        "\n",
        "\n",
        "\n",
        "\n"
      ]
    },
    {
      "cell_type": "code",
      "execution_count": 21,
      "metadata": {},
      "outputs": [
        {
          "name": "stdout",
          "output_type": "stream",
          "text": [
            "A solução da equação é w' = 32678983426.16095\n"
          ]
        }
      ],
      "source": [
        "def e(w):\n",
        "    return 1 - (W_P**2)/(w**2 + G_E**2)\n",
        "\n",
        "def u(w):\n",
        "    return 1 + (F*w**2)*(W_0**2-w**2)/((w**2-W_0**2)**2 + G_M**2*w**2)\n",
        "\n",
        "def equation(w):\n",
        "    return e(w) * u(w) - 1\n",
        "\n",
        "# Encontrar a solução para w' usando fsolve\n",
        "initial_guess = 0.5*W_P\n",
        "solution = fsolve(equation, initial_guess)\n",
        "w_linha_algoritmo = solution[0]\n",
        "# Exibir a solução encontrada\n",
        "print(\"A solução da equação é w' =\", w_linha_algoritmo)"
      ]
    },
    {
      "cell_type": "code",
      "execution_count": 22,
      "metadata": {},
      "outputs": [],
      "source": [
        "# frequencia limitada pelas condições teóricas para o spp TE\n",
        "w_lim_te = np.linspace(wspp_te_escalar,w_linha_algoritmo,NP)\n",
        "w_lim_te_wp = w_lim_te/W_P\n",
        "\n",
        "w_lim_tm2 = np.linspace(w_linha_algoritmo,wspp_tm_escalar, NP)\n",
        "w_lim_tm2_wp2 = w_lim_tm2/W_P"
      ]
    },
    {
      "cell_type": "markdown",
      "metadata": {
        "id": "jrY7ZkZxunRg"
      },
      "source": [
        "Funções"
      ]
    },
    {
      "cell_type": "code",
      "execution_count": 23,
      "metadata": {
        "colab": {
          "base_uri": "https://localhost:8080/"
        },
        "id": "fFgjyYGtujrG",
        "outputId": "6818f280-3bca-4f2f-b8d5-f3783c4d177e"
      },
      "outputs": [],
      "source": [
        "# permissividade elétrica\n",
        "def e_2(w):\n",
        "    e_2 = 1 - (W_P**2)/(w**2 + G_E**2)\n",
        "    return e_2\n",
        "\n",
        "# permeabilidade elétrica\n",
        "def u_2(w):\n",
        "    u_2 = 1 + (F*w**2)*(W_0**2-w**2)/((w**2-W_0**2)**2 + G_M**2*w**2)\n",
        "    return u_2\n",
        "\n",
        "# condição do decaimento exponencial em z\n",
        "def k_exp(w2, e_2, u_2):\n",
        "    k_exp_ = np.sqrt(e_2(w2)*u_2(w2)*(w2**2)/(C**2))\n",
        "    return k_exp_\n",
        "\n",
        "# dispersão tanto tm quanto te\n",
        "def k_spp_tm(w, e_2, u_2):\n",
        "\n",
        "    k_spp_tm = (w/W_P)*np.sqrt(e_2(w)*(e_2(w)-u_2(w))/(e_2(w)**2 - 1))\n",
        "\n",
        "    return k_spp_tm\n",
        "\n",
        "# dispersão tanto tm quanto te\n",
        "def k_spp_tm2(w, e_2, u_2):\n",
        "\n",
        "    k_spp_tm2 = (w/W_P)*np.sqrt(e_2(w)*(e_2(w)-u_2(w))/(e_2(w)**2 - 1))\n",
        "\n",
        "    return k_spp_tm2\n",
        "\n",
        "def k_spp_te(w, e_2, u_2):\n",
        "    k_spp_te = (w/W_P)*np.sqrt(u_2(w)*(u_2(w)-e_2(w))/(u_2(w)**2 - 1))\n",
        "\n",
        "    return k_spp_te\n",
        "\n"
      ]
    },
    {
      "cell_type": "code",
      "execution_count": 24,
      "metadata": {},
      "outputs": [
        {
          "name": "stderr",
          "output_type": "stream",
          "text": [
            "/tmp/ipykernel_954/1491341628.py:8: RuntimeWarning: invalid value encountered in scalar divide\n",
            "  u_2 = 1 + (F*w**2)*(W_0**2-w**2)/((w**2-W_0**2)**2 + G_M**2*w**2)\n",
            "/tmp/ipykernel_954/1491341628.py:19: RuntimeWarning: invalid value encountered in sqrt\n",
            "  k_spp_tm = (w/W_P)*np.sqrt(e_2(w)*(e_2(w)-u_2(w))/(e_2(w)**2 - 1))\n"
          ]
        }
      ],
      "source": [
        "extensao = input(\"Deseja extensão do SPP?: s para SIM: \")\n",
        "if extensao == 's':\n",
        "    w_max_spptm1 = w_linha_algoritmo\n",
        "else:\n",
        "    NP2 = 100000\n",
        "    intervalo = np.linspace(W_0, 0.45*W_P, NP2)\n",
        "    lista = []\n",
        "\n",
        "    for freq in intervalo:\n",
        "        valor1 = k_exp(freq, e_2, u_2)\n",
        "        if not np.isnan(valor1):\n",
        "            valor1 = valor1/K_P\n",
        "            valor2 = k_spp_tm(freq, e_2, u_2)\n",
        "            comp = np.abs(valor1-valor2)\n",
        "            if comp < 0.00005:\n",
        "                lista.append((comp,freq))\n",
        "    if mult <= 0.05:\n",
        "        w_max_spptm1 = W_0\n",
        "    elif lista:\n",
        "        tupla_menor_x = min(lista, key=lambda tupla: tupla[0])\n",
        "        w_max_spptm1 = tupla_menor_x[1]\n",
        "    else:\n",
        "        w_max_spptm1 = w_linha_algoritmo"
      ]
    },
    {
      "cell_type": "code",
      "execution_count": 25,
      "metadata": {},
      "outputs": [],
      "source": [
        "w_lim_tm = np.linspace(0,w_max_spptm1,NP)\n",
        "w_lim_tm_wp = w_lim_tm/W_P"
      ]
    },
    {
      "cell_type": "code",
      "execution_count": 26,
      "metadata": {},
      "outputs": [
        {
          "name": "stderr",
          "output_type": "stream",
          "text": [
            "/tmp/ipykernel_954/1491341628.py:31: RuntimeWarning: invalid value encountered in sqrt\n",
            "  k_spp_te = (w/W_P)*np.sqrt(u_2(w)*(u_2(w)-e_2(w))/(u_2(w)**2 - 1))\n",
            "/tmp/ipykernel_954/1491341628.py:3: RuntimeWarning: divide by zero encountered in divide\n",
            "  e_2 = 1 - (W_P**2)/(w**2 + G_E**2)\n",
            "/tmp/ipykernel_954/1491341628.py:8: RuntimeWarning: invalid value encountered in divide\n",
            "  u_2 = 1 + (F*w**2)*(W_0**2-w**2)/((w**2-W_0**2)**2 + G_M**2*w**2)\n",
            "/tmp/ipykernel_954/1491341628.py:19: RuntimeWarning: invalid value encountered in divide\n",
            "  k_spp_tm = (w/W_P)*np.sqrt(e_2(w)*(e_2(w)-u_2(w))/(e_2(w)**2 - 1))\n",
            "/tmp/ipykernel_954/1491341628.py:26: RuntimeWarning: invalid value encountered in sqrt\n",
            "  k_spp_tm2 = (w/W_P)*np.sqrt(e_2(w)*(e_2(w)-u_2(w))/(e_2(w)**2 - 1))\n"
          ]
        }
      ],
      "source": [
        "# puxando os valores da dispersão\n",
        "k_spp_te_var = k_spp_te(w_lim_te, e_2, u_2)\n",
        "k_spp_tm_var = k_spp_tm(w_lim_tm, e_2, u_2)\n",
        "k_spp_tm2 = k_spp_tm2(w_lim_tm2, e_2, u_2)"
      ]
    },
    {
      "cell_type": "markdown",
      "metadata": {
        "id": "q_NTD8oTuttC"
      },
      "source": [
        "Gráfico e suas configurações"
      ]
    },
    {
      "cell_type": "code",
      "execution_count": 27,
      "metadata": {
        "colab": {
          "base_uri": "https://localhost:8080/",
          "height": 495
        },
        "id": "puSheBWauyRv",
        "outputId": "82542594-fe02-465d-ca18-9fcfe36f1c39"
      },
      "outputs": [
        {
          "name": "stderr",
          "output_type": "stream",
          "text": [
            "/tmp/ipykernel_954/1491341628.py:3: RuntimeWarning: divide by zero encountered in divide\n",
            "  e_2 = 1 - (W_P**2)/(w**2 + G_E**2)\n",
            "/tmp/ipykernel_954/1491341628.py:13: RuntimeWarning: invalid value encountered in multiply\n",
            "  k_exp_ = np.sqrt(e_2(w2)*u_2(w2)*(w2**2)/(C**2))\n",
            "/tmp/ipykernel_954/1491341628.py:13: RuntimeWarning: invalid value encountered in sqrt\n",
            "  k_exp_ = np.sqrt(e_2(w2)*u_2(w2)*(w2**2)/(C**2))\n"
          ]
        },
        {
          "data": {
            "image/png": "[encoded data removed]",
            "text/plain": [
              "<Figure size 640x480 with 1 Axes>"
            ]
          },
          "metadata": {},
          "output_type": "display_data"
        }
      ],
      "source": [
        "# configurações do gráfico\n",
        "fig, ax = plt.subplots()\n",
        "\n",
        "# plot do sppTE\n",
        "ax.plot(k_spp_te_var, w_lim_te_wp, color=\"royalblue\", zorder=9)\n",
        "#ax.plot(w_lim_te_wp, k_spp_te_var)\n",
        "\n",
        "\n",
        "## plot do sppTM\n",
        "#ax.plot(k_spp_tm_var, w_lim_tm_wp, color=\"crimson\", zorder=9)\n",
        "#ax.plot(k_spp_tm2, w_lim_tm2_wp2, color=\"crimson\", zorder=9)\n",
        "\n",
        "## plot da condição de decaimento em z (limite onde surgem as spp TE e TM)\n",
        "if mult < 0.5:\n",
        "    ax.plot(k_exp(w, e_2, u_2)/K_P, (wwp), color=\"black\", linestyle='--', alpha=0.8, label=r'$k_c/k_p=k(\\omega)/k_p\\sqrt{\\epsilon_r(\\omega)\\mu_r(\\omega)}$', zorder=6)\n",
        "\n",
        "# plot da dispersao luz vácuo\n",
        "ax.plot( wwp, wwp, color=\"skyblue\", linestyle='--', label=r'$\\omega/\\omega_p = ck/\\omega_p$', zorder=8)\n",
        "\n",
        "## frequencia w', onde os 3 dispersões se encontram\n",
        "#ax.plot(k_ref, w_linha)\n",
        "if mult <= 0.085:\n",
        "    plt.scatter(k_exp(w_linha_algoritmo, e_2, u_2)/K_P, w_linha_algoritmo/W_P, color='purple', marker='d', s=70, zorder=10, label=r\"$\\omega'/\\omega_p$\")\n",
        "    #ax.plot(k_ref, wspp_te, color='darkblue', linestyle='-.', label=r'$\\omega_{TE}/\\omega_p$', alpha=0.7, zorder=7)\n",
        "    ## frequencia do spp te\n",
        "    ...\n",
        "\n",
        "\n",
        "## frequencia do spp tm2\n",
        "#ax.plot(k_ref, wspp_tm,color='darkred', linestyle='-.', label=r'$\\omega_{TM}/\\omega_p$', alpha=0.7, zorder=7)\n",
        "\n",
        "## frequencia mínima do intervalo te (primeiro spp tm)\n",
        "ax.plot(k_ref, wmin_te, color=\"black\", linestyle=':', zorder=5)\n",
        "\n",
        "## frequencia máxima do intervalo te\n",
        "ax.plot(k_ref, wmax_te, color=\"black\", linestyle=':', zorder=5)\n",
        "\n",
        "\n",
        "\n",
        "\n",
        "# limites dos eixos\n",
        "ax.set(xlim=(0,2))\n",
        "ax.set(ylim=(0,0.8))\n",
        "\n",
        "# sombreamento entre as curvas\n",
        "if not mult:\n",
        "    # faça algo se a condição for verdadeira\n",
        "\n",
        "    sombra = input(\"Deseja sombras para gamma = 0?, s para SIM e n para NÃO:\")\n",
        "    #if sombra == 's':\n",
        "    if sombra == 's':\n",
        "        plt.fill_between(k_exp(w, e_2, u_2)/K_P, wwp, wmin_te, color='gray', alpha=0.2)\n",
        "        plt.fill_between(k_exp(w, e_2, u_2)/K_P, wwp, wmax_te, color='black', alpha=0.3)\n",
        "else:\n",
        "    sombra = input(\"Deseja sombras para gamma = 0?, s para SIM e n para NÃO:\")\n",
        "    if sombra == 's':\n",
        "        if mult >= 0.05:\n",
        "            plt.fill_between(k_exp(w, e_2, u_2)/K_P, wwp, color='black', alpha=0.3)\n",
        "        else:\n",
        "            plt.fill_between(k_exp(w, e_2, u_2)/K_P, wwp, W_0/W_P, color='black', alpha=0.3)\n",
        "        \n",
        "# inserir legendas da curva\n",
        "plt.legend(loc='lower right')\n",
        "\n",
        "# inserir nome dos eixos\n",
        "plt.xlabel(r'$k_x/k_p$')\n",
        "plt.ylabel(r'$\\omega/\\omega_p$', rotation=0, labelpad=15)\n",
        "\n",
        "# inserir titulo\n",
        "SPP = '{SPP}'\n",
        "if mult == 0:\n",
        "    #plt.title(fr'$\\gamma = 0$')\n",
        "    ...\n",
        "else:\n",
        "    plt.title(fr'$\\gamma = {mult}\\omega_{SPP}$')\n",
        "\n",
        "# inserindo textos no gráfico\n",
        "plt.text(2.05, 0.6, r'$\\omega_M/\\omega_p$', fontsize=10)\n",
        "plt.text(1.98, 0.5922, r'--', fontsize=10)\n",
        "plt.text(2.05, 0.39, r'$\\omega_m/\\omega_p$', fontsize=10)\n",
        "plt.text(1.98, 0.39, r'--', fontsize=10)\n",
        "\n",
        "if not mult > 0.085:\n",
        "    yzada = wspp_te[0]+0.06\n",
        "    plt.text(1.6, 0.51, 'onda TE', fontsize=10, color=\"royalblue\", fontweight='bold')\n",
        "\n",
        "\n",
        "\n",
        "plt.show()"
      ]
    }
  ],
  "metadata": {
    "colab": {
      "provenance": []
    },
    "kernelspec": {
      "display_name": "Python 3",
      "name": "python3"
    },
    "language_info": {
      "codemirror_mode": {
        "name": "ipython",
        "version": 3
      },
      "file_extension": ".py",
      "mimetype": "text/x-python",
      "name": "python",
      "nbconvert_exporter": "python",
      "pygments_lexer": "ipython3",
      "version": "3.11.0"
    }
  },
  "nbformat": 4,
  "nbformat_minor": 0
}
